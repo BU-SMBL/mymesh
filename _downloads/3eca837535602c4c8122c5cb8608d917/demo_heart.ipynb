{
  "cells": [
    {
      "cell_type": "markdown",
      "metadata": {},
      "source": [
        "\n# Implicit Heart\n\nThis example generates a surface mesh of an implicit function and then performs \nLaplacian smoothing on it.\n\n## Defining an implicit function\nImplicit functions are defined as functions of three arguments (x, y, z), which \ncan handle vectorized inputs. \n"
      ]
    },
    {
      "cell_type": "code",
      "execution_count": null,
      "metadata": {
        "collapsed": false
      },
      "outputs": [],
      "source": [
        "from mymesh import implicit, mesh, improvement\n\ndef heart(x, y, z):\n    # Taubin's Heart Surface\n    return (x**2 + 9/4*y**2 + z**2 -1)**3 - x**2*z**3 - 9/80*y**2*z**3"
      ]
    },
    {
      "cell_type": "markdown",
      "metadata": {},
      "source": [
        "## Creating a Surface\n\n"
      ]
    },
    {
      "cell_type": "code",
      "execution_count": null,
      "metadata": {
        "collapsed": false
      },
      "outputs": [],
      "source": [
        "bounds = [-1.5, 1.5, -1.5, 1.5, -1.5, 1.5]\nh = 0.05 # element size\nHeart = implicit.SurfaceMesh(heart, bounds, h)\nHeart.plot(bgcolor='white', color='red')"
      ]
    },
    {
      "cell_type": "markdown",
      "metadata": {},
      "source": [
        "## Smoothing\nThe heart surface has a bit of a ridge in the middle, this can be eliminated \nby smoothing the mesh. This will also improve the quality of the elements in \nthe mesh and more evenly distribute the nodes.\n\n"
      ]
    },
    {
      "cell_type": "code",
      "execution_count": null,
      "metadata": {
        "collapsed": false
      },
      "outputs": [],
      "source": [
        "Heart = improvement.LocalLaplacianSmoothing(Heart)\nHeart.plot(bgcolor='white', color='red')"
      ]
    }
  ],
  "metadata": {
    "kernelspec": {
      "display_name": "Python 3",
      "language": "python",
      "name": "python3"
    },
    "language_info": {
      "codemirror_mode": {
        "name": "ipython",
        "version": 3
      },
      "file_extension": ".py",
      "mimetype": "text/x-python",
      "name": "python",
      "nbconvert_exporter": "python",
      "pygments_lexer": "ipython3",
      "version": "3.10.16"
    }
  },
  "nbformat": 4,
  "nbformat_minor": 0
}