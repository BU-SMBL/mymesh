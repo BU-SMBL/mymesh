{
  "cells": [
    {
      "cell_type": "markdown",
      "metadata": {},
      "source": [
        "\n# Pasta Shapes\n\nThis example creates pasta shapes with mymesh.primitives using sweep \nconstruction methods (:func:`~mymesh.primitives.Extrude` and \n:func:`~mymesh.primitives.Revolve`). These demonstrate how meshes \nof complex shapes can be constructed starting with a single straight line.\n\nPlease submit any new pasta constructions to toj@bu.edu\n"
      ]
    },
    {
      "cell_type": "code",
      "execution_count": null,
      "metadata": {
        "collapsed": false
      },
      "outputs": [],
      "source": [
        "from mymesh.primitives import Line, Revolve, Extrude\nimport numpy as np"
      ]
    },
    {
      "cell_type": "code",
      "execution_count": null,
      "metadata": {
        "collapsed": false
      },
      "outputs": [],
      "source": [
        "ziti = Extrude(\n            Revolve(\n                Line([0,0,0.9],[0,0,1], n=5), \n                2*np.pi, np.pi/36, axis=0), \n        5, 1, axis=0)\nziti.plot(bgcolor='w', color='#EBCB8B')\n\npenne = Extrude(\n            Revolve(\n                Line([0,0,0.9],[0,0,1], n=5), \n                2*np.pi, np.pi/36, axis=[1,1,1]), \n        5, 1, axis=0)\npenne.plot(bgcolor='w', color='#EBCB8B')\n\n\ngomiti = Revolve( # or elbow/macaroni\n            Revolve(\n                Line([0,0,1.5],[0,0,1.55], n=5), \n                2*np.pi, np.pi/36, axis=0, center=[0,0,1.25]), \n        np.pi, np.pi/36, axis=1, center=[0,0,0.5])\ngomiti.plot(bgcolor='w', color='#EBCB8B')\n\nfusilli = Revolve( # fusilli bucati to be specific\n            Revolve(\n                Line([0,0,.5], [0,0,.7], n=5),\n                2*np.pi, np.pi/36, axis=1, center=[0,0,.5]),\n        14*np.pi, np.pi/36, shift=5, axis=0)\nfusilli.plot(bgcolor='w', color='#EBCB8B')"
      ]
    }
  ],
  "metadata": {
    "kernelspec": {
      "display_name": "Python 3",
      "language": "python",
      "name": "python3"
    },
    "language_info": {
      "codemirror_mode": {
        "name": "ipython",
        "version": 3
      },
      "file_extension": ".py",
      "mimetype": "text/x-python",
      "name": "python",
      "nbconvert_exporter": "python",
      "pygments_lexer": "ipython3",
      "version": "3.10.18"
    }
  },
  "nbformat": 4,
  "nbformat_minor": 0
}