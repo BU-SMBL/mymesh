{
  "cells": [
    {
      "cell_type": "markdown",
      "metadata": {},
      "source": [
        "\n# Mixed-Topology TPMS\nMixed-topology surfaces :cite:p:`Josephson2024b` combine multiple implicit \nfunctions by taking weighted sums of the functions. By controlling the weights,\nthe resulting surface can be varied continuously between the set of surfaces.\nDepending on the set of surfaces, this can constitute a low-parameter, \ntopology-varying design space that can be used for design optimization (as in\n:cite:`Josephson2024b`).\n\nTriply periodic minimal surfaces (TPMS) are particularly\ninteresting subjects for a mixed-topology approach because the resultant surface\nwill remain triply periodic (though not minimal) as long as the periodicities\nare compatible.  \n\nSuch surfaces can be easily generated in MyMesh with the :mod:`~mymesh.implicit` \nmodule. Several TPMSs are available as built-in functions in :mod:`~mymesh.implicit` \nincluding :func:`~mymesh.implicit.gyroid`, :func:`~mymesh.implicit.primitive` \n(Schwarz P), and :func:`~mymesh.implicit.diamond` (Schwarz D) [#f1]_. \n"
      ]
    },
    {
      "cell_type": "code",
      "execution_count": null,
      "metadata": {
        "collapsed": false
      },
      "outputs": [],
      "source": [
        "from mymesh import implicit\nimport numpy as np\n\nfunctions = [implicit.primitive, implicit.gyroid]\nbounds = [0,1,0,1,0,1]\nh = 0.04 # element size\n\nweights1 = [0.25, 1] \nmixed_topology1 = lambda x,y,z : np.sum([w*f(x,y,z) for w,f in zip(weights1, functions)], axis=0)\nM1 = implicit.TetMesh(implicit.thickenf(mixed_topology1,1), bounds, h)\nM1.plot(bgcolor='white')\n\nweights2 = [0.5, 0.8] \nmixed_topology2 = lambda x,y,z : np.sum([w*f(x,y,z) for w,f in zip(weights2, functions)], axis=0)\nM2 = implicit.TetMesh(implicit.thickenf(mixed_topology2,1), bounds, h)\nM2.plot(bgcolor='white')\n\nweights3 = [0.8, 0.5] \nmixed_topology3 = lambda x,y,z : np.sum([w*f(x,y,z) for w,f in zip(weights3, functions)], axis=0)\nM3 = implicit.TetMesh(implicit.thickenf(mixed_topology3,1), bounds, h)\nM3.plot(bgcolor='white')\n\nweights4 = [1, 0.25] \nmixed_topology4 = lambda x,y,z : np.sum([w*f(x,y,z) for w,f in zip(weights4, functions)], axis=0)\nM4 = implicit.TetMesh(implicit.thickenf(mixed_topology4,1), bounds, h)\nM4.plot(bgcolor='white')"
      ]
    },
    {
      "cell_type": "markdown",
      "metadata": {},
      "source": [
        ".. [#f1] \n    To be specific, the implicit function TPMS representations are \n    Fourier series approximations (also known as periodic nodal surfaces \n    :cite:p:`VonSchnering1991`) and are not *truly* minimal surfaces (though they \n    are truly triply periodic). This can be seen by measuring the surface curvature\n    (:mod:`~mymesh.curvature`) and observing that the mean curvature is not zero at\n    all points. Nevertheless, these are reasonably accurate and commonly used \n    approximations. \n"
      ]
    }
  ],
  "metadata": {
    "kernelspec": {
      "display_name": "Python 3",
      "language": "python",
      "name": "python3"
    },
    "language_info": {
      "codemirror_mode": {
        "name": "ipython",
        "version": 3
      },
      "file_extension": ".py",
      "mimetype": "text/x-python",
      "name": "python",
      "nbconvert_exporter": "python",
      "pygments_lexer": "ipython3",
      "version": "3.12.7"
    }
  },
  "nbformat": 4,
  "nbformat_minor": 0
}