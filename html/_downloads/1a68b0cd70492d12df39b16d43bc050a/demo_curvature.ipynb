{
  "cells": [
    {
      "cell_type": "markdown",
      "metadata": {},
      "source": [
        "\n# Curvature Analysis\nThe curvature of two unit spheres is measured with both mesh-based and \nanalytical (implicit function-based) methods. The first sphere is the \ndirect result of marching cubes, which typically contains low quality \ntriangles. The second sphere is a smoothed version of the first where nodes\nhave been redistributed via tangential Laplacian smoothing and moved to lie \nmore closely to the true surface (see \n:func:~mymesh.implicit.SurfaceNodeOptimization`). \n"
      ]
    },
    {
      "cell_type": "code",
      "execution_count": null,
      "metadata": {
        "collapsed": false
      },
      "outputs": [],
      "source": [
        "from mymesh import curvature, implicit\nimport numpy as np\nimport matplotlib.pyplot as plt\n\nSphere = implicit.SurfaceMesh(implicit.sphere([0,0,0], 1), [-1,1,-1,1,-1,1], 0.1)\nSphere.verbose=False\n\nSmoothSphere = implicit.SurfaceNodeOptimization(Sphere, implicit.sphere([0,0,0], 1), 0.1, iterate=10)\nSmoothSphere.verbose=False"
      ]
    },
    {
      "cell_type": "markdown",
      "metadata": {},
      "source": [
        "## Curvature calculation\nCurvature can be calculated from the mesh directly or with additional \ninformation if the mesh is implicit function- or image-based. Mesh-based \nmethods (e.g. :func:`~mymesh.curvature.CubicFit`) work best on uniform and \nhigh quality meshes but irregular and low quality meshes can introduce \nsignificant errors. Function-based curvatures (e.g. \n:func:`~mymesh.curvature.AnalyticalCurvature`) are generally much more,\naccurate, with most of the error arising from interpolation error in the \nplacement of the nodes onto the surface.\n\n"
      ]
    },
    {
      "cell_type": "code",
      "execution_count": null,
      "metadata": {
        "collapsed": false
      },
      "outputs": [],
      "source": [
        "k1m_sphere, k2m_sphere = curvature.CubicFit(Sphere.NodeCoords, Sphere.NodeConn, Sphere.NodeNeighbors, Sphere.NodeNormals)\n\nk1m_smooth, k2m_smooth = curvature.CubicFit(SmoothSphere.NodeCoords, SmoothSphere.NodeConn, SmoothSphere.NodeNeighbors, SmoothSphere.NodeNormals)\n\n\nk1a_sphere, k2a_sphere, _, _ = curvature.AnalyticalCurvature(implicit.sphere([0,0,0], 1), Sphere.NodeCoords)\n\nk1a_smooth, k2a_smooth, _, _ = curvature.AnalyticalCurvature(implicit.sphere([0,0,0], 1), SmoothSphere.NodeCoords)\n\nSphere.plot(scalars=k1m_sphere, bgcolor='white', show_edges=True, color='coolwarm') \nSmoothSphere.plot(scalars=k1m_smooth, bgcolor='white', show_edges=True, color='coolwarm')\n\nSphere.plot(scalars=k1a_sphere, bgcolor='white', show_edges=True, color='coolwarm')\nSmoothSphere.plot(scalars=k1a_smooth, bgcolor='white', show_edges=True, color='coolwarm')"
      ]
    },
    {
      "cell_type": "markdown",
      "metadata": {},
      "source": [
        "## Error Measurement\nTo compare how the two methods performed on the two spheres, the root mean \nsquare deviation (RMSD) can be calculate to see how much the measured \ncurvatures deviate from the true curvature of 1 mm :sup:`-1`.\n\n"
      ]
    },
    {
      "cell_type": "code",
      "execution_count": null,
      "metadata": {
        "collapsed": false
      },
      "outputs": [],
      "source": [
        "RMSD_k1m_sphere = np.sqrt(1/len(k1m_sphere) * np.sum((np.array(k1m_sphere) - 1)**2))\nRMSD_k1m_smooth = np.sqrt(1/len(k1m_smooth) * np.sum((np.array(k1m_smooth) - 1)**2))\n\nRMSD_k1a_sphere = np.sqrt(1/len(k1a_sphere) * np.sum((np.array(k1a_sphere) - 1)**2))\nRMSD_k1a_smooth = np.sqrt(1/len(k1a_smooth) * np.sum((np.array(k1a_smooth) - 1)**2))\n\n\n\nwidth = 0.35\nfig, ax = plt.subplots()\nax.bar([-width/2, 1-width/2], [RMSD_k1m_sphere, RMSD_k1a_sphere], width, label='Sphere')\nax.bar([+width/2,1+width/2], [RMSD_k1m_smooth, RMSD_k1a_smooth], width, label='Smooth Sphere')\nax.set_yscale('log')\n\nax.set_ylabel('Root mean square error')\nax.set_xticks([0,1])\nax.set_xticklabels(['Mesh-based', 'Analytical'])\nax.legend()\nax.set_ylim([10**-4, 10**1])\nplt.show()"
      ]
    }
  ],
  "metadata": {
    "kernelspec": {
      "display_name": "Python 3",
      "language": "python",
      "name": "python3"
    },
    "language_info": {
      "codemirror_mode": {
        "name": "ipython",
        "version": 3
      },
      "file_extension": ".py",
      "mimetype": "text/x-python",
      "name": "python",
      "nbconvert_exporter": "python",
      "pygments_lexer": "ipython3",
      "version": "3.12.7"
    }
  },
  "nbformat": 4,
  "nbformat_minor": 0
}